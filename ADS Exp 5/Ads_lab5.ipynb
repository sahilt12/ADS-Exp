{
  "nbformat": 4,
  "nbformat_minor": 0,
  "metadata": {
    "colab": {
      "provenance": []
    },
    "kernelspec": {
      "name": "python3",
      "display_name": "Python 3"
    },
    "language_info": {
      "name": "python"
    }
  },
  "cells": [
    {
      "cell_type": "code",
      "source": [
        "import numpy as np\n",
        "import pandas as pd\n",
        "from sklearn.model_selection import train_test_split\n",
        "from sklearn.ensemble import RandomForestClassifier\n",
        "from sklearn.metrics import classification_report\n",
        "from imblearn.over_sampling import SMOTE, BorderlineSMOTE\n",
        "from imblearn.combine import SMOTEENN\n",
        "\n",
        "# Load the Credit Card Fraud Detection dataset from Kaggle\n",
        "credit_card_data = pd.read_csv(\"creditcard.csv\")\n",
        "\n",
        "# Assume the target variable is named 'Class'\n",
        "X = credit_card_data.drop('Class', axis=1)\n",
        "y = credit_card_data['Class']\n",
        "\n",
        "# Drop rows with missing target values\n",
        "missing_indices = y.isnull()\n",
        "X = X[~missing_indices]\n",
        "y = y.dropna()\n",
        "\n",
        "# Print imbalanced class distribution after handling missing values\n",
        "print(\"\\nImbalanced Class Distribution after handling missing values:\")\n",
        "print(y.value_counts())\n",
        "\n",
        "# Split the imbalanced dataset into training and testing sets\n",
        "X_train, X_test, y_train, y_test = train_test_split(X, y, test_size=0.2, random_state=42)\n",
        "\n",
        "# Dictionary to store results for different oversampling techniques\n",
        "results = {}\n",
        "\n",
        "# SMOTE\n",
        "smote = SMOTE(random_state=42)\n",
        "X_resampled_smote, y_resampled_smote = smote.fit_resample(X_train, y_train)\n",
        "results['SMOTE'] = (X_resampled_smote, y_resampled_smote)\n",
        "\n",
        "# Borderline-SMOTE\n",
        "borderline_smote = BorderlineSMOTE(random_state=42)\n",
        "X_resampled_borderline, y_resampled_borderline = borderline_smote.fit_resample(X_train, y_train)\n",
        "results['Borderline-SMOTE'] = (X_resampled_borderline, y_resampled_borderline)\n",
        "\n",
        "# SMOTE-ENN\n",
        "smote_enn = SMOTEENN(random_state=42)\n",
        "X_resampled_smoteenn, y_resampled_smoteenn = smote_enn.fit_resample(X_train, y_train)\n",
        "results['SMOTE-ENN'] = (X_resampled_smoteenn, y_resampled_smoteenn)\n",
        "\n",
        "# Train and evaluate a machine learning model for each resampled dataset\n",
        "for technique, (X_resampled, y_resampled) in results.items():\n",
        "    print(f\"\\nResults for {technique}:\")\n",
        "\n",
        "    # Train a RandomForestClassifier on the resampled data\n",
        "    clf = RandomForestClassifier(random_state=42)\n",
        "    clf.fit(X_resampled, y_resampled)\n",
        "\n",
        "    # Evaluate the model on the original test set\n",
        "    y_pred = clf.predict(X_test)\n",
        "    print(\"Classification Report on Test Set:\")\n",
        "    print(classification_report(y_test, y_pred))\n"
      ],
      "metadata": {
        "colab": {
          "base_uri": "https://localhost:8080/"
        },
        "id": "PoIYhkGPIHjI",
        "outputId": "7192a7c8-8904-46f6-9361-7d2e54865c28"
      },
      "execution_count": 1,
      "outputs": [
        {
          "output_type": "stream",
          "name": "stdout",
          "text": [
            "\n",
            "Imbalanced Class Distribution after handling missing values:\n",
            "0.0    13897\n",
            "1.0       56\n",
            "Name: Class, dtype: int64\n",
            "\n",
            "Results for SMOTE:\n",
            "Classification Report on Test Set:\n",
            "              precision    recall  f1-score   support\n",
            "\n",
            "         0.0       1.00      1.00      1.00      2780\n",
            "         1.0       0.91      0.91      0.91        11\n",
            "\n",
            "    accuracy                           1.00      2791\n",
            "   macro avg       0.95      0.95      0.95      2791\n",
            "weighted avg       1.00      1.00      1.00      2791\n",
            "\n",
            "\n",
            "Results for Borderline-SMOTE:\n",
            "Classification Report on Test Set:\n",
            "              precision    recall  f1-score   support\n",
            "\n",
            "         0.0       1.00      1.00      1.00      2780\n",
            "         1.0       0.92      1.00      0.96        11\n",
            "\n",
            "    accuracy                           1.00      2791\n",
            "   macro avg       0.96      1.00      0.98      2791\n",
            "weighted avg       1.00      1.00      1.00      2791\n",
            "\n",
            "\n",
            "Results for SMOTE-ENN:\n",
            "Classification Report on Test Set:\n",
            "              precision    recall  f1-score   support\n",
            "\n",
            "         0.0       1.00      1.00      1.00      2780\n",
            "         1.0       0.91      0.91      0.91        11\n",
            "\n",
            "    accuracy                           1.00      2791\n",
            "   macro avg       0.95      0.95      0.95      2791\n",
            "weighted avg       1.00      1.00      1.00      2791\n",
            "\n"
          ]
        }
      ]
    }
  ]
}